{
 "cells": [
  {
   "cell_type": "code",
   "execution_count": 1,
   "metadata": {},
   "outputs": [],
   "source": [
    "import numpy as np\n",
    "import pandas as pd\n",
    "import snap\n",
    "import matplotlib.pyplot as plt\n",
    "import powerlaw as pl"
   ]
  },
  {
   "cell_type": "code",
   "execution_count": 2,
   "metadata": {},
   "outputs": [],
   "source": [
    "edges = pd.read_csv(\"da/after_GC/Edges.csv\")\n",
    "nodes = pd.read_csv(\"da/after_GC/Nodes.csv\")"
   ]
  },
  {
   "cell_type": "code",
   "execution_count": 3,
   "metadata": {},
   "outputs": [
    {
     "name": "stdout",
     "output_type": "stream",
     "text": [
      "Source Size --> 6423647\n",
      "Target Size --> 6423647\n",
      "Sequence Length --> 109293\n"
     ]
    }
   ],
   "source": [
    "# Create an empty Vector - SNAP data structure\n",
    "src = snap.TIntV() \n",
    "trg = snap.TIntV()\n",
    "n = snap.TIntV()\n",
    "\n",
    "# Add elements\n",
    "[src.Add(element) for element in edges['Source'].tolist()]\n",
    "[trg.Add(element) for element in edges['Target'].tolist()]\n",
    "[n.Add(element) for element in nodes['Id'].tolist()]\n",
    "\n",
    "# Print vector size\n",
    "print ('Source Size -->',src.Len())\n",
    "print ('Target Size -->',trg.Len())\n",
    "print ('Sequence Length -->',n.Len())"
   ]
  },
  {
   "cell_type": "markdown",
   "metadata": {},
   "source": [
    "# Graph Creation"
   ]
  },
  {
   "cell_type": "code",
   "execution_count": 4,
   "metadata": {},
   "outputs": [
    {
     "name": "stdout",
     "output_type": "stream",
     "text": [
      "Directed Graph creation successfuly!\n"
     ]
    }
   ],
   "source": [
    "# Create a Directed Graph\n",
    "G1 = snap.TNGraph.New()\n",
    "\n",
    "# Add Nodes before \n",
    "for i in range(0, n.Len()):\n",
    "    G1.AddNode(n[i])\n",
    "\n",
    "# adding edges\n",
    "for i in range(0, src.Len()):\n",
    "    G1.AddEdge(src[i],trg[i])\n",
    "\n",
    "# Set node labels\n",
    "NIdName = snap.TIntStrH() \n",
    "for node in n:\n",
    "    NIdName[node] = str(node)\n",
    "\n",
    "# Directed network\n",
    "N1 = snap.TNEANet.New()\n",
    "print(\"Directed Graph creation successfuly!\")"
   ]
  },
  {
   "cell_type": "markdown",
   "metadata": {},
   "source": [
    "# The innermost k-shell"
   ]
  },
  {
   "cell_type": "code",
   "execution_count": 6,
   "metadata": {},
   "outputs": [
    {
     "name": "stdout",
     "output_type": "stream",
     "text": [
      "Core exists for K=1\n",
      "Core exists for K=2\n",
      "Core exists for K=3\n",
      "Core exists for K=4\n",
      "Core exists for K=5\n",
      "Core exists for K=6\n",
      "Core exists for K=7\n",
      "Core exists for K=8\n",
      "Core exists for K=9\n",
      "Core exists for K=10\n",
      "Core exists for K=11\n",
      "Core exists for K=12\n",
      "Core exists for K=13\n",
      "Core exists for K=14\n",
      "Core exists for K=15\n",
      "Core exists for K=16\n",
      "Core exists for K=17\n",
      "Core exists for K=18\n",
      "Core exists for K=19\n",
      "Core exists for K=20\n",
      "Core exists for K=21\n",
      "Core exists for K=22\n",
      "Core exists for K=23\n",
      "Core exists for K=24\n",
      "Core exists for K=25\n",
      "Core exists for K=26\n",
      "Core exists for K=27\n",
      "Core exists for K=28\n",
      "Core exists for K=29\n",
      "Core exists for K=30\n",
      "Core exists for K=31\n",
      "Core exists for K=32\n",
      "Core exists for K=33\n",
      "Core exists for K=34\n",
      "Core exists for K=35\n",
      "Core exists for K=36\n",
      "Core exists for K=37\n",
      "Core exists for K=38\n",
      "Core exists for K=39\n",
      "Core exists for K=40\n",
      "Core exists for K=41\n",
      "Core exists for K=42\n",
      "Core exists for K=43\n",
      "Core exists for K=44\n",
      "Core exists for K=45\n",
      "Core exists for K=46\n",
      "Core exists for K=47\n",
      "Core exists for K=48\n",
      "Core exists for K=49\n",
      "Core exists for K=50\n",
      "Core exists for K=51\n",
      "Core exists for K=52\n",
      "Core exists for K=53\n",
      "Core exists for K=54\n",
      "Core exists for K=55\n",
      "Core exists for K=56\n",
      "Core exists for K=57\n",
      "Core exists for K=58\n",
      "Core exists for K=59\n",
      "Core exists for K=60\n",
      "Core exists for K=61\n",
      "Core exists for K=62\n",
      "Core exists for K=63\n",
      "Core exists for K=64\n",
      "Core exists for K=65\n",
      "Core exists for K=66\n",
      "Core exists for K=67\n",
      "Core exists for K=68\n",
      "Core exists for K=69\n",
      "Core exists for K=70\n",
      "Core exists for K=71\n",
      "Core exists for K=72\n",
      "Core exists for K=73\n",
      "Core exists for K=74\n",
      "Core exists for K=75\n",
      "Core exists for K=76\n",
      "Core exists for K=77\n",
      "Core exists for K=78\n",
      "Core exists for K=79\n",
      "Core exists for K=80\n",
      "Core exists for K=81\n",
      "Core exists for K=82\n",
      "Core exists for K=83\n",
      "Core exists for K=84\n",
      "Core exists for K=85\n",
      "Core exists for K=86\n",
      "Core exists for K=87\n",
      "Core exists for K=88\n",
      "Core exists for K=89\n",
      "Core exists for K=90\n",
      "Core exists for K=91\n",
      "Core exists for K=92\n",
      "Core exists for K=93\n",
      "Core exists for K=94\n",
      "Core exists for K=95\n",
      "Core exists for K=96\n",
      "Core exists for K=97\n",
      "Core exists for K=98\n",
      "Core exists for K=99\n",
      "Core exists for K=100\n",
      "Core exists for K=101\n",
      "Core exists for K=102\n",
      "Core exists for K=103\n",
      "Core exists for K=104\n",
      "Core exists for K=105\n",
      "Core exists for K=106\n",
      "Core exists for K=107\n",
      "Core exists for K=108\n",
      "Core exists for K=109\n",
      "Core exists for K=110\n",
      "Core exists for K=111\n",
      "Core exists for K=112\n",
      "Core exists for K=113\n",
      "Core exists for K=114\n",
      "Core exists for K=115\n",
      "Core exists for K=116\n",
      "Core exists for K=117\n",
      "Core exists for K=118\n",
      "Core exists for K=119\n",
      "Core exists for K=120\n",
      "Core exists for K=121\n",
      "Core exists for K=122\n",
      "Core exists for K=123\n",
      "Core exists for K=124\n",
      "Core exists for K=125\n",
      "Core exists for K=126\n",
      "Core exists for K=127\n",
      "Core exists for K=128\n",
      "Core exists for K=129\n",
      "Core exists for K=130\n",
      "Core exists for K=131\n",
      "Core exists for K=132\n",
      "Core exists for K=133\n",
      "Core exists for K=134\n",
      "Core exists for K=135\n",
      "Core exists for K=136\n",
      "Core exists for K=137\n",
      "Core exists for K=138\n",
      "Core exists for K=139\n",
      "Core exists for K=140\n",
      "Core exists for K=141\n",
      "Core exists for K=142\n",
      "Core exists for K=143\n",
      "Core exists for K=144\n",
      "Core exists for K=145\n",
      "Core exists for K=146\n",
      "Core exists for K=147\n",
      "Core exists for K=148\n",
      "Core exists for K=149\n",
      "Core exists for K=150\n",
      "Core exists for K=151\n",
      "Core exists for K=152\n",
      "Core exists for K=153\n",
      "Core exists for K=154\n",
      "Core exists for K=155\n",
      "Core exists for K=156\n",
      "Core exists for K=157\n",
      "Core exists for K=158\n",
      "Core exists for K=159\n",
      "Core exists for K=160\n",
      "Core exists for K=161\n",
      "Core exists for K=162\n",
      "Core exists for K=163\n",
      "Core exists for K=164\n",
      "Core exists for K=165\n",
      "Core exists for K=166\n",
      "Core exists for K=167\n",
      "Core exists for K=168\n",
      "Core exists for K=169\n",
      "Core exists for K=170\n",
      "Core exists for K=171\n",
      "Core exists for K=172\n",
      "Core exists for K=173\n",
      "Core exists for K=174\n",
      "Core exists for K=175\n",
      "Core exists for K=176\n",
      "Core exists for K=177\n",
      "Core exists for K=178\n",
      "Core exists for K=179\n",
      "Core exists for K=180\n",
      "No Core exists for K=181\n"
     ]
    }
   ],
   "source": [
    "K=0\n",
    "while True:\n",
    "    K=K+1\n",
    "    KCore = snap.GetKCore(G1, K)\n",
    "    if KCore.Empty():\n",
    "        print ('No Core exists for K=%d' % K)\n",
    "        break\n",
    "    else:\n",
    "        print ('Core exists for K=%d' % K)\n",
    "        pass"
   ]
  },
  {
   "cell_type": "code",
   "execution_count": 10,
   "metadata": {},
   "outputs": [
    {
     "name": "stdout",
     "output_type": "stream",
     "text": [
      "k-core: 0 nodes: 109293\n",
      "k-core: 1 nodes: 109289\n",
      "k-core: 2 nodes: 109287\n",
      "k-core: 3 nodes: 109279\n",
      "k-core: 4 nodes: 109273\n",
      "k-core: 5 nodes: 109263\n",
      "k-core: 6 nodes: 109250\n",
      "k-core: 7 nodes: 109241\n",
      "k-core: 8 nodes: 109213\n",
      "k-core: 9 nodes: 109195\n",
      "k-core: 10 nodes: 109174\n",
      "k-core: 11 nodes: 109136\n",
      "k-core: 12 nodes: 109076\n",
      "k-core: 13 nodes: 108996\n",
      "k-core: 14 nodes: 108910\n",
      "k-core: 15 nodes: 108791\n",
      "k-core: 16 nodes: 108679\n",
      "k-core: 17 nodes: 108472\n",
      "k-core: 18 nodes: 108239\n",
      "k-core: 19 nodes: 107918\n",
      "k-core: 20 nodes: 107531\n",
      "k-core: 21 nodes: 107020\n",
      "k-core: 22 nodes: 106453\n",
      "k-core: 23 nodes: 105794\n",
      "k-core: 24 nodes: 105000\n",
      "k-core: 25 nodes: 104099\n",
      "k-core: 26 nodes: 103007\n",
      "k-core: 27 nodes: 101838\n",
      "k-core: 28 nodes: 100519\n",
      "k-core: 29 nodes: 98940\n",
      "k-core: 30 nodes: 97290\n",
      "k-core: 31 nodes: 95438\n",
      "k-core: 32 nodes: 93449\n",
      "k-core: 33 nodes: 91351\n",
      "k-core: 34 nodes: 89144\n",
      "k-core: 35 nodes: 86781\n",
      "k-core: 36 nodes: 84451\n",
      "k-core: 37 nodes: 81786\n",
      "k-core: 38 nodes: 79171\n",
      "k-core: 39 nodes: 76451\n",
      "k-core: 40 nodes: 73957\n",
      "k-core: 41 nodes: 71418\n",
      "k-core: 42 nodes: 68985\n",
      "k-core: 43 nodes: 66623\n",
      "k-core: 44 nodes: 64323\n",
      "k-core: 45 nodes: 62119\n",
      "k-core: 46 nodes: 60000\n",
      "k-core: 47 nodes: 57951\n",
      "k-core: 48 nodes: 55998\n",
      "k-core: 49 nodes: 53963\n",
      "k-core: 50 nodes: 52297\n",
      "k-core: 51 nodes: 50427\n",
      "k-core: 52 nodes: 48691\n",
      "k-core: 53 nodes: 47165\n",
      "k-core: 54 nodes: 45782\n",
      "k-core: 55 nodes: 44223\n",
      "k-core: 56 nodes: 42923\n",
      "k-core: 57 nodes: 41629\n",
      "k-core: 58 nodes: 40311\n",
      "k-core: 59 nodes: 39151\n",
      "k-core: 60 nodes: 38140\n",
      "k-core: 61 nodes: 37041\n",
      "k-core: 62 nodes: 35999\n",
      "k-core: 63 nodes: 35024\n",
      "k-core: 64 nodes: 34038\n",
      "k-core: 65 nodes: 33029\n",
      "k-core: 66 nodes: 32159\n",
      "k-core: 67 nodes: 31199\n",
      "k-core: 68 nodes: 30389\n",
      "k-core: 69 nodes: 29551\n",
      "k-core: 70 nodes: 28780\n",
      "k-core: 71 nodes: 28009\n",
      "k-core: 72 nodes: 27202\n",
      "k-core: 73 nodes: 26425\n",
      "k-core: 74 nodes: 25831\n",
      "k-core: 75 nodes: 25160\n",
      "k-core: 76 nodes: 24538\n",
      "k-core: 77 nodes: 23952\n",
      "k-core: 78 nodes: 23399\n",
      "k-core: 79 nodes: 22659\n",
      "k-core: 80 nodes: 22065\n",
      "k-core: 81 nodes: 21448\n",
      "k-core: 82 nodes: 20884\n",
      "k-core: 83 nodes: 20371\n",
      "k-core: 84 nodes: 19915\n",
      "k-core: 85 nodes: 19453\n",
      "k-core: 86 nodes: 18938\n",
      "k-core: 87 nodes: 18460\n",
      "k-core: 88 nodes: 18030\n",
      "k-core: 89 nodes: 17639\n",
      "k-core: 90 nodes: 17196\n",
      "k-core: 91 nodes: 16731\n",
      "k-core: 92 nodes: 16324\n",
      "k-core: 93 nodes: 15894\n",
      "k-core: 94 nodes: 15575\n",
      "k-core: 95 nodes: 15214\n",
      "k-core: 96 nodes: 14847\n",
      "k-core: 97 nodes: 14472\n",
      "k-core: 98 nodes: 14123\n",
      "k-core: 99 nodes: 13817\n",
      "k-core: 100 nodes: 13472\n",
      "k-core: 101 nodes: 13200\n",
      "k-core: 102 nodes: 12897\n",
      "k-core: 103 nodes: 12592\n",
      "k-core: 104 nodes: 12305\n",
      "k-core: 105 nodes: 12020\n",
      "k-core: 106 nodes: 11705\n",
      "k-core: 107 nodes: 11457\n",
      "k-core: 108 nodes: 11137\n",
      "k-core: 109 nodes: 10878\n",
      "k-core: 110 nodes: 10682\n",
      "k-core: 111 nodes: 10419\n",
      "k-core: 112 nodes: 10135\n",
      "k-core: 113 nodes: 9929\n",
      "k-core: 114 nodes: 9695\n",
      "k-core: 115 nodes: 9479\n",
      "k-core: 116 nodes: 9259\n",
      "k-core: 117 nodes: 9016\n",
      "k-core: 118 nodes: 8799\n",
      "k-core: 119 nodes: 8566\n",
      "k-core: 120 nodes: 8375\n",
      "k-core: 121 nodes: 8214\n",
      "k-core: 122 nodes: 8026\n",
      "k-core: 123 nodes: 7851\n",
      "k-core: 124 nodes: 7639\n",
      "k-core: 125 nodes: 7458\n",
      "k-core: 126 nodes: 7189\n",
      "k-core: 127 nodes: 7039\n",
      "k-core: 128 nodes: 6849\n",
      "k-core: 129 nodes: 6681\n",
      "k-core: 130 nodes: 6481\n",
      "k-core: 131 nodes: 6323\n",
      "k-core: 132 nodes: 6134\n",
      "k-core: 133 nodes: 5903\n",
      "k-core: 134 nodes: 5801\n",
      "k-core: 135 nodes: 5627\n",
      "k-core: 136 nodes: 5476\n",
      "k-core: 137 nodes: 5378\n",
      "k-core: 138 nodes: 5154\n",
      "k-core: 139 nodes: 5025\n",
      "k-core: 140 nodes: 4849\n",
      "k-core: 141 nodes: 4754\n",
      "k-core: 142 nodes: 4577\n",
      "k-core: 143 nodes: 4442\n",
      "k-core: 144 nodes: 4339\n",
      "k-core: 145 nodes: 4182\n",
      "k-core: 146 nodes: 4082\n",
      "k-core: 147 nodes: 3995\n",
      "k-core: 148 nodes: 3883\n",
      "k-core: 149 nodes: 3829\n",
      "k-core: 150 nodes: 3694\n",
      "k-core: 151 nodes: 3589\n",
      "k-core: 152 nodes: 3476\n",
      "k-core: 153 nodes: 3376\n",
      "k-core: 154 nodes: 3293\n",
      "k-core: 155 nodes: 3204\n",
      "k-core: 156 nodes: 3090\n",
      "k-core: 157 nodes: 2992\n",
      "k-core: 158 nodes: 2929\n",
      "k-core: 159 nodes: 2875\n",
      "k-core: 160 nodes: 2787\n",
      "k-core: 161 nodes: 2709\n",
      "k-core: 162 nodes: 2626\n",
      "k-core: 163 nodes: 2550\n",
      "k-core: 164 nodes: 2497\n",
      "k-core: 165 nodes: 2368\n",
      "k-core: 166 nodes: 2284\n",
      "k-core: 167 nodes: 2211\n",
      "k-core: 168 nodes: 2169\n",
      "k-core: 169 nodes: 2074\n",
      "k-core: 170 nodes: 1985\n",
      "k-core: 171 nodes: 1961\n",
      "k-core: 172 nodes: 1849\n",
      "k-core: 173 nodes: 1783\n",
      "k-core: 174 nodes: 1744\n",
      "k-core: 175 nodes: 1628\n",
      "k-core: 176 nodes: 1542\n",
      "k-core: 177 nodes: 1425\n",
      "k-core: 178 nodes: 1399\n",
      "k-core: 179 nodes: 1337\n",
      "k-core: 180 nodes: 954\n"
     ]
    }
   ],
   "source": [
    "k_list = []\n",
    "val_list = []\n",
    "# Calcualte the number of nodes in every core\n",
    "CoreIDSzV = snap.TIntPrV()\n",
    "kValue = snap.GetKCoreNodes(G1, CoreIDSzV)\n",
    "for item in CoreIDSzV:\n",
    "    print (\"k-core: %d nodes: %d\" % (item.GetVal1(), item.GetVal2()))\n",
    "    k_list.append(item.GetVal1())\n",
    "    val_list.append(item.GetVal2())"
   ]
  },
  {
   "cell_type": "code",
   "execution_count": 17,
   "metadata": {
    "scrolled": false
   },
   "outputs": [
    {
     "data": {
      "image/png": "[encoded data removed]",
      "text/plain": [
       "<Figure size 720x504 with 1 Axes>"
      ]
     },
     "metadata": {
      "needs_background": "light"
     },
     "output_type": "display_data"
    }
   ],
   "source": [
    "# Plot innermost K-shell Distribution\n",
    "plt.rcParams['figure.figsize'] = [10, 7] # Size of plt\n",
    "plt.xlabel(\"K-Core\")\n",
    "plt.ylabel(\"Nodes\")\n",
    "plt.title(\"The innermost k-shell\")\n",
    "plt.plot(k_list,val_list)\n",
    "plt.savefigigfigvefig(\"k_shell_dist.png\")\n",
    "plt.show()"
   ]
  },
  {
   "cell_type": "markdown",
   "metadata": {},
   "source": [
    "# Triads and clustering coefficient"
   ]
  },
  {
   "cell_type": "code",
   "execution_count": 14,
   "metadata": {},
   "outputs": [
    {
     "name": "stdout",
     "output_type": "stream",
     "text": [
      "triads =  25542734\n",
      "clustering coefficient =  0.12594780179802378\n"
     ]
    }
   ],
   "source": [
    "# Count triads\n",
    "Triads = snap.GetTriads(G1)\n",
    "print (\"triads = \", Triads)\n",
    "\n",
    "# Calculate clustering coefficient\n",
    "CC = snap.GetClustCf(G1)\n",
    "print (\"clustering coefficient = \", CC)"
   ]
  },
  {
   "cell_type": "markdown",
   "metadata": {},
   "source": [
    "# The average path length, diameter and effective diameter"
   ]
  },
  {
   "cell_type": "code",
   "execution_count": 15,
   "metadata": {},
   "outputs": [
    {
     "name": "stdout",
     "output_type": "stream",
     "text": [
      "Diameter =  7\n",
      "approx. Effective Diameter =  3.19081045135703\n",
      "approx. The average path length =  2.958673874204192\n"
     ]
    }
   ],
   "source": [
    "# DIRECTED\n",
    "result = snap.GetBfsEffDiamAll(G1, 1000, True)\n",
    "print (\"Diameter = \", result[2])\n",
    "print (\"approx. Effective Diameter = \", result[0])\n",
    "print (\"approx. The average path length = \", result[3])"
   ]
  },
  {
   "cell_type": "code",
   "execution_count": 16,
   "metadata": {},
   "outputs": [
    {
     "name": "stdout",
     "output_type": "stream",
     "text": [
      "Diameter =  6\n",
      "approx. Effective Diameter =  2.856707656632267\n",
      "approx. The average path length =  2.632829351535836\n"
     ]
    }
   ],
   "source": [
    "# UN-DIRECTED\n",
    "result = snap.GetBfsEffDiamAll(G1, 1000, False)\n",
    "print (\"Diameter = \", result[2])\n",
    "print (\"approx. Effective Diameter = \", result[0])\n",
    "print (\"approx. The average path length = \", result[3])"
   ]
  },
  {
   "cell_type": "markdown",
   "metadata": {},
   "source": [
    "# In-Degree Distribution"
   ]
  },
  {
   "cell_type": "code",
   "execution_count": null,
   "metadata": {},
   "outputs": [],
   "source": [
    "# Create a Directed Graph\n",
    "G2 = snap.TNGraph.New()\n",
    "\n",
    "# Add Nodes before \n",
    "for i in range(0, n.Len()):\n",
    "    G2.AddNode(n[i])\n",
    "\n",
    "# adding edges\n",
    "for i in range(0, src.Len()):\n",
    "    G2.AddEdge(src[i],trg[i])\n",
    "\n",
    "# Set node labels\n",
    "NIdName = snap.TIntStrH() \n",
    "for node in n:\n",
    "    NIdName[node] = str(node)\n",
    "\n",
    "# Directed network\n",
    "N1 = snap.TNEANet.New()\n",
    "print(\"Undirected Graph creation successfuly!\")"
   ]
  },
  {
   "cell_type": "code",
   "execution_count": 17,
   "metadata": {},
   "outputs": [
    {
     "data": {
      "text/plain": [
       "<snap.TIntPrV; proxy of <Swig Object of type 'TVec< TPair< TInt,TInt >,int > *' at 0x000000CCAD757810> >"
      ]
     },
     "execution_count": 17,
     "metadata": {},
     "output_type": "execute_result"
    }
   ],
   "source": [
    "# Get maximum Weakly Connected Components\n",
    "MxWcc = snap.GetMxWcc(G2)\n",
    "print (\"max wcc nodes: %d\\nedges: %d\" % \\\n",
    "    (MxWcc.GetNodes(), MxWcc.GetEdges()))"
   ]
  },
  {
   "cell_type": "code",
   "execution_count": 5,
   "metadata": {},
   "outputs": [
    {
     "name": "stdout",
     "output_type": "stream",
     "text": [
      "node ID 1: in-degree 9\n",
      "node ID 2: in-degree 60\n",
      "node ID 4: in-degree 44\n",
      "node ID 26: in-degree 27\n",
      "node ID 57: in-degree 98\n",
      "node ID 59: in-degree 35\n",
      "node ID 65: in-degree 133\n",
      "node ID 76: in-degree 18\n",
      "node ID 84: in-degree 20\n",
      "node ID 90: in-degree 53\n",
      "node ID 96: in-degree 17\n",
      "node ID 99: in-degree 24\n",
      "node ID 112: in-degree 8\n",
      "node ID 115: in-degree 29\n",
      "node ID 116: in-degree 31\n",
      "node ID 117: in-degree 26\n",
      "node ID 118: in-degree 18\n",
      "node ID 129: in-degree 18\n",
      "node ID 130: in-degree 343\n",
      "node ID 156: in-degree 12\n"
     ]
    }
   ],
   "source": [
    "InDegV = snap.TIntPrV()\n",
    "snap.GetNodeInDegV(G1, InDegV)\n",
    "\n",
    "numItemstoList=20;i=0;\n",
    "for item in InDegV:\n",
    "    print( \"node ID %d: in-degree %d\" % (item.GetVal1(), item.GetVal2()))\n",
    "    i=i+1\n",
    "    if i==numItemstoList:\n",
    "        break # comment to output all nodes"
   ]
  }
 ],
 "metadata": {
  "kernelspec": {
   "display_name": "Python 3",
   "language": "python",
   "name": "python3"
  },
  "language_info": {
   "codemirror_mode": {
    "name": "ipython",
    "version": 3
   },
   "file_extension": ".py",
   "mimetype": "text/x-python",
   "name": "python",
   "nbconvert_exporter": "python",
   "pygments_lexer": "ipython3",
   "version": "3.7.3"
  }
 },
 "nbformat": 4,
 "nbformat_minor": 2
}
