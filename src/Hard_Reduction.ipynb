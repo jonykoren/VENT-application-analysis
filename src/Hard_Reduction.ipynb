{
 "cells": [
  {
   "cell_type": "code",
   "execution_count": 40,
   "metadata": {},
   "outputs": [],
   "source": [
    "import pandas as pd\n",
    "import snap"
   ]
  },
  {
   "cell_type": "code",
   "execution_count": 41,
   "metadata": {},
   "outputs": [],
   "source": [
    "edges = pd.read_csv(\"da/before_GC/Edges.csv\")\n",
    "nodes = pd.read_csv(\"da/before_GC/Nodes.csv\")"
   ]
  },
  {
   "cell_type": "code",
   "execution_count": 42,
   "metadata": {},
   "outputs": [
    {
     "name": "stdout",
     "output_type": "stream",
     "text": [
      "Source Size --> 11825009\n",
      "Target Size --> 11825009\n",
      "Sequence Length --> 934095\n"
     ]
    }
   ],
   "source": [
    "# Create an empty Vector - SNAP data structure\n",
    "src = snap.TIntV() \n",
    "trg = snap.TIntV()\n",
    "n = snap.TIntV()\n",
    "\n",
    "# Add elements\n",
    "[src.Add(element) for element in edges['Source'].tolist()]\n",
    "[trg.Add(element) for element in edges['Target'].tolist()]\n",
    "[n.Add(element) for element in nodes['Id'].tolist()]\n",
    "\n",
    "# Print vector size\n",
    "print ('Source Size -->',src.Len())\n",
    "print ('Target Size -->',trg.Len())\n",
    "print ('Sequence Length -->',n.Len())"
   ]
  },
  {
   "cell_type": "markdown",
   "metadata": {},
   "source": [
    "# Graph Creation"
   ]
  },
  {
   "cell_type": "code",
   "execution_count": 43,
   "metadata": {},
   "outputs": [
    {
     "name": "stdout",
     "output_type": "stream",
     "text": [
      "Directed Graph creation successfuly!\n"
     ]
    }
   ],
   "source": [
    "# Create a Directed Graph\n",
    "G1 = snap.TNGraph.New()\n",
    "\n",
    "# Add Nodes before \n",
    "for i in range(0, n.Len()):\n",
    "    G1.AddNode(n[i])\n",
    "\n",
    "# adding edges\n",
    "for i in range(0, src.Len()):\n",
    "    G1.AddEdge(src[i],trg[i])\n",
    "\n",
    "# Set node labels\n",
    "NIdName = snap.TIntStrH() \n",
    "for node in n:\n",
    "    NIdName[node] = str(node)\n",
    "\n",
    "# Directed network\n",
    "N1 = snap.TNEANet.New()\n",
    "print(\"Directed Graph creation successfuly!\")"
   ]
  },
  {
   "cell_type": "markdown",
   "metadata": {},
   "source": [
    "# Giant Component Extraction"
   ]
  },
  {
   "cell_type": "markdown",
   "metadata": {},
   "source": [
    "## Subset Graph by Removing Low Degree Nodes "
   ]
  },
  {
   "cell_type": "code",
   "execution_count": 44,
   "metadata": {},
   "outputs": [
    {
     "name": "stdout",
     "output_type": "stream",
     "text": [
      "Before:\n",
      "========\n",
      "Edges =  11825009\n",
      "Nodes =  934095\n",
      "After:\n",
      "========\n",
      "Edges =  589286\n",
      "Nodes =  4477\n"
     ]
    }
   ],
   "source": [
    "# LIST OF NODES INDEXES TO REMOVE FROM THE DATASET\n",
    "listA=[]\n",
    "\n",
    "# DEFINE THE IN-DEGREE AND OUT-DEGREE REMOVAL THRESHOLD\n",
    "in_deg_remove = 300\n",
    "out_deg_remove = 300\n",
    "\n",
    "# GET NODES INDEXES FOR THAT CRITERIA\n",
    "for NI in G1.Nodes():\n",
    "    if NI.GetOutDeg()<out_deg_remove and NI.GetInDeg()<in_deg_remove:\n",
    "        listA.append(NI.GetId())\n",
    "\n",
    "# CREATE SNAP VECTOR CONSIST THESE LIST\n",
    "V = snap.TIntV()\n",
    "[V.Add(element) for element in listA]\n",
    "\n",
    "# Nodes & Edges - BEFORE\n",
    "print(\"Before:\")\n",
    "print(\"========\")\n",
    "print('Edges = ',G1.GetEdges())\n",
    "print('Nodes = ',G1.GetNodes())\n",
    "\n",
    "# DELETE NODES AND EDGES FROM GRAPH (NOT FROM THE DATASET)\n",
    "snap.DelNodes(G1, V)\n",
    "\n",
    "# Nodes & Edges - AFTER\n",
    "print(\"After:\")\n",
    "print(\"========\")\n",
    "print('Edges = ',G1.GetEdges())\n",
    "print('Nodes = ',G1.GetNodes())"
   ]
  },
  {
   "cell_type": "markdown",
   "metadata": {},
   "source": [
    "# Subset Data According to Nodes & Edges Removal from the Graph"
   ]
  },
  {
   "cell_type": "code",
   "execution_count": 45,
   "metadata": {},
   "outputs": [],
   "source": [
    "# REMOVE LOW-DEGREE NODES\n",
    "nodes = nodes[~nodes.index.isin(listA)]\n",
    "\n",
    "# REMOVE SOURCE LOW-DEGREE NODES FROM THE EDGES\n",
    "edges = edges[~edges.Target.isin(listA)]\n",
    "\n",
    "# REMOVE TARGET LOW-DEGREE NODES FROM THE EDGES\n",
    "edges = edges[~edges.Source.isin(listA)]"
   ]
  },
  {
   "cell_type": "markdown",
   "metadata": {},
   "source": [
    "# Data extraction to csv"
   ]
  },
  {
   "cell_type": "code",
   "execution_count": 46,
   "metadata": {},
   "outputs": [],
   "source": [
    "# EXTRACT NODES\n",
    "nodes.to_csv(\"da/after_GC/Nodes_hard\"+str(in_deg_remove)+\".csv\", index = False)\n",
    "\n",
    "# EXTRACT EDGES \n",
    "edges.to_csv(\"da/after_GC/Edges_hard\"+str(in_deg_remove)+\".csv\", index = False)"
   ]
  }
 ],
 "metadata": {
  "kernelspec": {
   "display_name": "Python 3",
   "language": "python",
   "name": "python3"
  },
  "language_info": {
   "codemirror_mode": {
    "name": "ipython",
    "version": 3
   },
   "file_extension": ".py",
   "mimetype": "text/x-python",
   "name": "python",
   "nbconvert_exporter": "python",
   "pygments_lexer": "ipython3",
   "version": "3.7.3"
  }
 },
 "nbformat": 4,
 "nbformat_minor": 2
}
