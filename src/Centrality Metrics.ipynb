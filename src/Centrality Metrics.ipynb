{
 "cells": [
  {
   "cell_type": "code",
   "execution_count": 2,
   "metadata": {},
   "outputs": [],
   "source": [
    "import numpy as np\n",
    "import pandas as pd\n",
    "import snap\n",
    "import matplotlib.pyplot as plt\n",
    "import powerlaw as pl\n",
    "import csv"
   ]
  },
  {
   "cell_type": "code",
   "execution_count": 3,
   "metadata": {},
   "outputs": [
    {
     "name": "stdout",
     "output_type": "stream",
     "text": [
      "Data loaded successfuly!\n"
     ]
    }
   ],
   "source": [
    "edges = pd.read_csv(\"Edges_hard250.csv\")\n",
    "nodes = pd.read_csv(\"Nodes_hard250.csv\")\n",
    "print(\"Data loaded successfuly!\")"
   ]
  },
  {
   "cell_type": "code",
   "execution_count": 4,
   "metadata": {},
   "outputs": [
    {
     "name": "stdout",
     "output_type": "stream",
     "text": [
      "Source Size --> 767397\n",
      "Target Size --> 767397\n",
      "Sequence Length --> 5784\n"
     ]
    }
   ],
   "source": [
    "# Create an empty Vector - SNAP data structure\n",
    "src = snap.TIntV() \n",
    "trg = snap.TIntV()\n",
    "n = snap.TIntV()\n",
    "\n",
    "# Add elements\n",
    "[src.Add(element) for element in edges['Source'].tolist()]\n",
    "[trg.Add(element) for element in edges['Target'].tolist()]\n",
    "[n.Add(element) for element in nodes['Id'].tolist()]\n",
    "\n",
    "# Print vector size\n",
    "print ('Source Size -->',src.Len())\n",
    "print ('Target Size -->',trg.Len())\n",
    "print ('Sequence Length -->',n.Len())"
   ]
  },
  {
   "cell_type": "markdown",
   "metadata": {},
   "source": [
    "# Graph Creation"
   ]
  },
  {
   "cell_type": "code",
   "execution_count": 5,
   "metadata": {},
   "outputs": [
    {
     "name": "stdout",
     "output_type": "stream",
     "text": [
      "Directed Graph creation successfuly!\n"
     ]
    }
   ],
   "source": [
    "# Create a Directed Graph\n",
    "G1 = snap.TNGraph.New()\n",
    "\n",
    "# Add Nodes before \n",
    "for i in range(0, n.Len()):\n",
    "    G1.AddNode(n[i])\n",
    "\n",
    "# adding edges\n",
    "for i in range(0, src.Len()):\n",
    "    G1.AddEdge(src[i],trg[i])\n",
    "\n",
    "# Set node labels\n",
    "NIdName = snap.TIntStrH() \n",
    "for node in n:\n",
    "    NIdName[node] = str(node)\n",
    "\n",
    "# Directed network\n",
    "N1 = snap.TNEANet.New()\n",
    "print(\"Directed Graph creation successfuly!\")"
   ]
  },
  {
   "cell_type": "markdown",
   "metadata": {},
   "source": [
    "# Centrality Metrics"
   ]
  },
  {
   "cell_type": "markdown",
   "metadata": {},
   "source": [
    "## Page Rank"
   ]
  },
  {
   "cell_type": "code",
   "execution_count": 16,
   "metadata": {},
   "outputs": [
    {
     "name": "stdout",
     "output_type": "stream",
     "text": [
      "\n",
      "Top 20 Users by Page Rank:\n",
      "=============\n",
      "\n",
      "Node ID:  768100   |   Page Rank: 0.010409\n",
      "Node ID:  653154   |   Page Rank: 0.009760\n",
      "Node ID:  564363   |   Page Rank: 0.006833\n",
      "Node ID:   25056   |   Page Rank: 0.003375\n",
      "Node ID:  120858   |   Page Rank: 0.003354\n",
      "Node ID:   35705   |   Page Rank: 0.003329\n",
      "Node ID:  880652   |   Page Rank: 0.002209\n",
      "Node ID:  316195   |   Page Rank: 0.002181\n",
      "Node ID:   43147   |   Page Rank: 0.001631\n",
      "Node ID:  485026   |   Page Rank: 0.001613\n",
      "Node ID:  741235   |   Page Rank: 0.001583\n",
      "Node ID:   60303   |   Page Rank: 0.001566\n",
      "Node ID:  499567   |   Page Rank: 0.001554\n",
      "Node ID:  384702   |   Page Rank: 0.001529\n",
      "Node ID:    4063   |   Page Rank: 0.001502\n",
      "Node ID:  239168   |   Page Rank: 0.001483\n",
      "Node ID:  833199   |   Page Rank: 0.001454\n",
      "Node ID:  901899   |   Page Rank: 0.001453\n",
      "Node ID:  604376   |   Page Rank: 0.001375\n",
      "Node ID:  461427   |   Page Rank: 0.001328\n"
     ]
    }
   ],
   "source": [
    "PRankH = snap.TIntFltH()\n",
    "snap.GetPageRank(G1, PRankH)\n",
    "\n",
    "slist = sorted(PRankH, key = lambda key: PRankH[key], reverse = True)\n",
    "print (\"\\nTop 20 Users by Page Rank:\\n=============\\n\")\n",
    "for item in slist[:20]:\n",
    "    print (\"Node ID: %7s   |   Page Rank: %.6f\" % (item, PRankH[item]))"
   ]
  },
  {
   "cell_type": "markdown",
   "metadata": {},
   "source": [
    "# Closeness Centrality"
   ]
  },
  {
   "cell_type": "code",
   "execution_count": 17,
   "metadata": {},
   "outputs": [
    {
     "name": "stdout",
     "output_type": "stream",
     "text": [
      "\n",
      "Top 20 Users by Closeness Centrality:\n",
      "=======================\n",
      "\n"
     ]
    },
    {
     "data": {
      "text/html": [
       "<div>\n",
       "<style scoped>\n",
       "    .dataframe tbody tr th:only-of-type {\n",
       "        vertical-align: middle;\n",
       "    }\n",
       "\n",
       "    .dataframe tbody tr th {\n",
       "        vertical-align: top;\n",
       "    }\n",
       "\n",
       "    .dataframe thead th {\n",
       "        text-align: right;\n",
       "    }\n",
       "</style>\n",
       "<table border=\"1\" class=\"dataframe\">\n",
       "  <thead>\n",
       "    <tr style=\"text-align: right;\">\n",
       "      <th></th>\n",
       "      <th>node</th>\n",
       "      <th>score</th>\n",
       "    </tr>\n",
       "  </thead>\n",
       "  <tbody>\n",
       "    <tr>\n",
       "      <th>2029</th>\n",
       "      <td>322502</td>\n",
       "      <td>0.689602</td>\n",
       "    </tr>\n",
       "    <tr>\n",
       "      <th>1333</th>\n",
       "      <td>206017</td>\n",
       "      <td>0.674953</td>\n",
       "    </tr>\n",
       "    <tr>\n",
       "      <th>689</th>\n",
       "      <td>99870</td>\n",
       "      <td>0.666628</td>\n",
       "    </tr>\n",
       "    <tr>\n",
       "      <th>197</th>\n",
       "      <td>25840</td>\n",
       "      <td>0.662656</td>\n",
       "    </tr>\n",
       "    <tr>\n",
       "      <th>5435</th>\n",
       "      <td>874574</td>\n",
       "      <td>0.642913</td>\n",
       "    </tr>\n",
       "    <tr>\n",
       "      <th>5443</th>\n",
       "      <td>875879</td>\n",
       "      <td>0.626748</td>\n",
       "    </tr>\n",
       "    <tr>\n",
       "      <th>5669</th>\n",
       "      <td>914808</td>\n",
       "      <td>0.613386</td>\n",
       "    </tr>\n",
       "    <tr>\n",
       "      <th>4768</th>\n",
       "      <td>768100</td>\n",
       "      <td>0.613061</td>\n",
       "    </tr>\n",
       "    <tr>\n",
       "      <th>4409</th>\n",
       "      <td>703426</td>\n",
       "      <td>0.612931</td>\n",
       "    </tr>\n",
       "    <tr>\n",
       "      <th>937</th>\n",
       "      <td>138647</td>\n",
       "      <td>0.606821</td>\n",
       "    </tr>\n",
       "    <tr>\n",
       "      <th>2979</th>\n",
       "      <td>483140</td>\n",
       "      <td>0.604537</td>\n",
       "    </tr>\n",
       "    <tr>\n",
       "      <th>3767</th>\n",
       "      <td>604988</td>\n",
       "      <td>0.599896</td>\n",
       "    </tr>\n",
       "    <tr>\n",
       "      <th>3786</th>\n",
       "      <td>608395</td>\n",
       "      <td>0.598468</td>\n",
       "    </tr>\n",
       "    <tr>\n",
       "      <th>354</th>\n",
       "      <td>46853</td>\n",
       "      <td>0.595817</td>\n",
       "    </tr>\n",
       "    <tr>\n",
       "      <th>4467</th>\n",
       "      <td>714613</td>\n",
       "      <td>0.593554</td>\n",
       "    </tr>\n",
       "    <tr>\n",
       "      <th>5690</th>\n",
       "      <td>918034</td>\n",
       "      <td>0.593189</td>\n",
       "    </tr>\n",
       "    <tr>\n",
       "      <th>3313</th>\n",
       "      <td>533436</td>\n",
       "      <td>0.592035</td>\n",
       "    </tr>\n",
       "    <tr>\n",
       "      <th>5046</th>\n",
       "      <td>813255</td>\n",
       "      <td>0.587763</td>\n",
       "    </tr>\n",
       "    <tr>\n",
       "      <th>1615</th>\n",
       "      <td>257155</td>\n",
       "      <td>0.587584</td>\n",
       "    </tr>\n",
       "    <tr>\n",
       "      <th>2235</th>\n",
       "      <td>359317</td>\n",
       "      <td>0.585205</td>\n",
       "    </tr>\n",
       "  </tbody>\n",
       "</table>\n",
       "</div>"
      ],
      "text/plain": [
       "        node     score\n",
       "2029  322502  0.689602\n",
       "1333  206017  0.674953\n",
       "689    99870  0.666628\n",
       "197    25840  0.662656\n",
       "5435  874574  0.642913\n",
       "5443  875879  0.626748\n",
       "5669  914808  0.613386\n",
       "4768  768100  0.613061\n",
       "4409  703426  0.612931\n",
       "937   138647  0.606821\n",
       "2979  483140  0.604537\n",
       "3767  604988  0.599896\n",
       "3786  608395  0.598468\n",
       "354    46853  0.595817\n",
       "4467  714613  0.593554\n",
       "5690  918034  0.593189\n",
       "3313  533436  0.592035\n",
       "5046  813255  0.587763\n",
       "1615  257155  0.587584\n",
       "2235  359317  0.585205"
      ]
     },
     "execution_count": 17,
     "metadata": {},
     "output_type": "execute_result"
    }
   ],
   "source": [
    "n1=[]\n",
    "c1=[]\n",
    "for NI in G1.Nodes():\n",
    "    CloseCentr = snap.GetClosenessCentr(G1, NI.GetId())\n",
    "    n1.append(NI.GetId())\n",
    "    c1.append(CloseCentr)\n",
    "    \n",
    "df = pd.DataFrame({\"node\": n1, \"score\": c1}) \n",
    "final_df = df.sort_values(by=['score'], ascending=False)\n",
    "print (\"\\nTop 20 Users by Closeness Centrality:\\n=======================\\n\")\n",
    "final_df[:20]\n"
   ]
  },
  {
   "cell_type": "markdown",
   "metadata": {},
   "source": [
    "## Betweenness Centrality"
   ]
  },
  {
   "cell_type": "code",
   "execution_count": 6,
   "metadata": {},
   "outputs": [
    {
     "name": "stdout",
     "output_type": "stream",
     "text": [
      "\n",
      "Top 20 Users by Betweenness Centrality:\n",
      "=======================\n",
      "\n",
      "Node ID:  322502   |   Betweenness Centrality: 693440.172936\n",
      "Node ID:  206017   |   Betweenness Centrality: 669161.456366\n",
      "Node ID:   99870   |   Betweenness Centrality: 552886.514665\n",
      "Node ID:   25840   |   Betweenness Centrality: 537870.750079\n",
      "Node ID:  875879   |   Betweenness Centrality: 395637.081383\n",
      "Node ID:  874574   |   Betweenness Centrality: 387664.556688\n",
      "Node ID:  768100   |   Betweenness Centrality: 270418.491254\n",
      "Node ID:  703426   |   Betweenness Centrality: 264990.005167\n",
      "Node ID:  138647   |   Betweenness Centrality: 221579.077079\n",
      "Node ID:  608395   |   Betweenness Centrality: 213282.682985\n",
      "Node ID:   46853   |   Betweenness Centrality: 193470.563478\n",
      "Node ID:  914808   |   Betweenness Centrality: 183623.795740\n",
      "Node ID:  918034   |   Betweenness Centrality: 180335.473513\n",
      "Node ID:  257155   |   Betweenness Centrality: 172372.164252\n",
      "Node ID:  714613   |   Betweenness Centrality: 165728.972274\n",
      "Node ID:  359317   |   Betweenness Centrality: 159818.432141\n",
      "Node ID:  483140   |   Betweenness Centrality: 153643.224119\n",
      "Node ID:  658253   |   Betweenness Centrality: 153280.790168\n",
      "Node ID:  604988   |   Betweenness Centrality: 146035.831184\n",
      "Node ID:  330964   |   Betweenness Centrality: 137675.622416\n",
      "DONE!\n"
     ]
    }
   ],
   "source": [
    "Nodes2 = snap.TIntFltH()\n",
    "Edges2 = snap.TIntPrFltH()\n",
    "snap.GetBetweennessCentr(G1, Nodes2, Edges2, 1.0)\n",
    "\n",
    "\n",
    "\n",
    "slist = sorted(Nodes2, key = lambda key: Nodes2[key], reverse = True)\n",
    "print (\"\\nTop 20 Users by Betweenness Centrality:\\n=======================\\n\")\n",
    "for item in slist[:20]:\n",
    "    print (\"Node ID: %7s   |   Betweenness Centrality: %.6f\" % (item, Nodes2[item]))\n",
    "    \n",
    "print(\"DONE!\")\n"
   ]
  },
  {
   "cell_type": "code",
   "execution_count": null,
   "metadata": {},
   "outputs": [],
   "source": []
  },
  {
   "cell_type": "code",
   "execution_count": null,
   "metadata": {},
   "outputs": [],
   "source": []
  },
  {
   "cell_type": "code",
   "execution_count": null,
   "metadata": {},
   "outputs": [],
   "source": []
  },
  {
   "cell_type": "code",
   "execution_count": 9,
   "metadata": {},
   "outputs": [
    {
     "name": "stdout",
     "output_type": "stream",
     "text": [
      "Unirected Graph creation successfuly!\n"
     ]
    }
   ],
   "source": [
    "# Create a Directed Graph\n",
    "G11 = snap.TUNGraph.New()\n",
    "\n",
    "# Add Nodes before \n",
    "for i in range(0, n.Len()):\n",
    "    G11.AddNode(n[i])\n",
    "\n",
    "# adding edges\n",
    "for i in range(0, src.Len()):\n",
    "    G11.AddEdge(src[i],trg[i])\n",
    "\n",
    "# Set node labels\n",
    "NIdName = snap.TIntStrH() \n",
    "for node in n:\n",
    "    NIdName[node] = str(node)\n",
    "\n",
    "# Directed network\n",
    "N1 = snap.TNEANet.New()\n",
    "print(\"Unirected Graph creation successfuly!\")"
   ]
  },
  {
   "cell_type": "code",
   "execution_count": 10,
   "metadata": {},
   "outputs": [
    {
     "name": "stdout",
     "output_type": "stream",
     "text": [
      "\n",
      "Top 20 Users by Eigenvector Centrality:\n",
      "=============\n",
      "\n",
      "Node ID:  206017   |   Page Rank: 0.102766\n",
      "Node ID:   25840   |   Page Rank: 0.101722\n",
      "Node ID:  322502   |   Page Rank: 0.101318\n",
      "Node ID:   99870   |   Page Rank: 0.098089\n",
      "Node ID:  874574   |   Page Rank: 0.091298\n"
     ]
    }
   ],
   "source": [
    "NIdEigenH = snap.TIntFltH()\n",
    "snap.GetEigenVectorCentr(G11, NIdEigenH)\n",
    "\n",
    "slist = sorted(NIdEigenH, key = lambda key: NIdEigenH[key], reverse = True)\n",
    "\n",
    "print (\"\\nTop 20 Users by Eigenvector Centrality:\\n=============\\n\")\n",
    "for item in slist[:5]:\n",
    "    print (\"Node ID: %7s   |   Page Rank: %.6f\" % (item, NIdEigenH[item]))\n"
   ]
  }
 ],
 "metadata": {
  "kernelspec": {
   "display_name": "Python 3",
   "language": "python",
   "name": "python3"
  },
  "language_info": {
   "codemirror_mode": {
    "name": "ipython",
    "version": 3
   },
   "file_extension": ".py",
   "mimetype": "text/x-python",
   "name": "python",
   "nbconvert_exporter": "python",
   "pygments_lexer": "ipython3",
   "version": "3.7.3"
  }
 },
 "nbformat": 4,
 "nbformat_minor": 2
}
