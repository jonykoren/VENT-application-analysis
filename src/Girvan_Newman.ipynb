{
 "cells": [
  {
   "cell_type": "code",
   "execution_count": 1,
   "metadata": {},
   "outputs": [],
   "source": [
    "import snap\n",
    "import pandas as pd\n",
    "import numpy\n",
    "import matplotlib.pyplot as plt"
   ]
  },
  {
   "cell_type": "markdown",
   "metadata": {},
   "source": [
    "# Import Data"
   ]
  },
  {
   "cell_type": "code",
   "execution_count": 2,
   "metadata": {},
   "outputs": [
    {
     "name": "stdout",
     "output_type": "stream",
     "text": [
      "Data loaded successfuly\n"
     ]
    }
   ],
   "source": [
    "edges = pd.read_csv(\"da/after_GC/Edges.csv\")\n",
    "nodes = pd.read_csv(\"da/after_GC/Nodes.csv\")\n",
    "print(\"Data loaded successfuly\")"
   ]
  },
  {
   "cell_type": "markdown",
   "metadata": {},
   "source": [
    "# Create vectors of nodes, source, target"
   ]
  },
  {
   "cell_type": "code",
   "execution_count": 3,
   "metadata": {},
   "outputs": [
    {
     "name": "stdout",
     "output_type": "stream",
     "text": [
      "Source Size --> 6423647\n",
      "Target Size --> 6423647\n",
      "Sequence Length --> 109293\n"
     ]
    }
   ],
   "source": [
    "# Create an empty Vector - SNAP data structure\n",
    "src = snap.TIntV() \n",
    "trg = snap.TIntV()\n",
    "n = snap.TIntV()\n",
    "\n",
    "# Add elements\n",
    "[src.Add(element) for element in edges['Source'].tolist()]\n",
    "[trg.Add(element) for element in edges['Target'].tolist()]\n",
    "[n.Add(element) for element in nodes['Id'].tolist()]\n",
    "\n",
    "# Print vector size\n",
    "print ('Source Size -->',src.Len())\n",
    "print ('Target Size -->',trg.Len())\n",
    "print ('Sequence Length -->',n.Len())"
   ]
  },
  {
   "cell_type": "markdown",
   "metadata": {},
   "source": [
    "# GC Graph Creation"
   ]
  },
  {
   "cell_type": "code",
   "execution_count": 9,
   "metadata": {},
   "outputs": [
    {
     "name": "stdout",
     "output_type": "stream",
     "text": [
      "UNDIRECTED Graph Created Successfuly!\n"
     ]
    }
   ],
   "source": [
    "# Create a Directed Graph\n",
    "G1 = snap.TUNGraph.New()\n",
    "\n",
    "# Add Nodes before \n",
    "for i in range(0, n.Len()):\n",
    "    G1.AddNode(n[i])\n",
    "\n",
    "# adding edges\n",
    "for i in range(0, src.Len()):\n",
    "    G1.AddEdge(src[i],trg[i])\n",
    "\n",
    "# Set node labels\n",
    "NIdName = snap.TIntStrH() \n",
    "for node in n:\n",
    "    NIdName[node] = str(node)\n",
    "    \n",
    "print('UNDIRECTED Graph Created Successfuly!')"
   ]
  },
  {
   "cell_type": "markdown",
   "metadata": {},
   "source": [
    "# Modularity for Giant Component"
   ]
  },
  {
   "cell_type": "code",
   "execution_count": null,
   "metadata": {},
   "outputs": [],
   "source": [
    "CmtyV = snap.TCnComV()\n",
    "\n",
    "modularity = snap.CommunityGirvanNewman(G1, CmtyV)\n",
    "print(\"Modularity created successfuly!\")"
   ]
  },
  {
   "cell_type": "code",
   "execution_count": null,
   "metadata": {},
   "outputs": [],
   "source": [
    "cnt=0\n",
    "cnt2 = 0\n",
    "cmt_id = []\n",
    "cmt_num = []\n",
    "#modularity =  snap.Infomap(MxWcc, CmtyV)\n",
    "for Cmty in CmtyV:\n",
    "    print (\"==================\\n## COMMUNITY ##\\n==================\")\n",
    "    cnt+=1\n",
    "    for NI in Cmty:\n",
    "        #print (NI)\n",
    "        cnt2+=1\n",
    "    print(\"The Community Consist \", cnt2, \" nodes\\n\")\n",
    "    cmt_id.append(cnt)\n",
    "    cmt_num.append(cnt2)\n",
    "    cnt2=0\n",
    "print( \"\\n\\nThe modularity of the network is %f\" % modularity)\n",
    "print(\"Number of communities: \", cnt)"
   ]
  },
  {
   "cell_type": "markdown",
   "metadata": {},
   "source": [
    "# Modularity & Number of communities - Girvan-Newman "
   ]
  },
  {
   "cell_type": "code",
   "execution_count": null,
   "metadata": {},
   "outputs": [],
   "source": [
    "print( \"The modularity of the network is %f\" % modularity)\n",
    "print(\"Number of communities: \", cnt)"
   ]
  },
  {
   "cell_type": "markdown",
   "metadata": {},
   "source": [
    "# Plot Distribution"
   ]
  },
  {
   "cell_type": "code",
   "execution_count": null,
   "metadata": {},
   "outputs": [],
   "source": [
    "plt.rcParams['figure.figsize'] = [10, 7] # Size of plt"
   ]
  },
  {
   "cell_type": "code",
   "execution_count": null,
   "metadata": {},
   "outputs": [],
   "source": [
    "plt.plot(cmt_id,cmt_num)\n",
    "plt.xlabel(\"Community ID\")\n",
    "plt.ylabel(\"Number of Nodes\")\n",
    "plt.title(\"Modularity\"+str(modularity)+\" - Community Distribution\")\n",
    "plt.savefig(\"Newman-Girvan Modularity Distribution\")\n",
    "plt.show()"
   ]
  }
 ],
 "metadata": {
  "kernelspec": {
   "display_name": "Python 3",
   "language": "python",
   "name": "python3"
  },
  "language_info": {
   "codemirror_mode": {
    "name": "ipython",
    "version": 3
   },
   "file_extension": ".py",
   "mimetype": "text/x-python",
   "name": "python",
   "nbconvert_exporter": "python",
   "pygments_lexer": "ipython3",
   "version": "3.7.3"
  }
 },
 "nbformat": 4,
 "nbformat_minor": 2
}
