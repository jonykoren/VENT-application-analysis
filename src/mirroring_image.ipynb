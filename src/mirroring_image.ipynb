{
 "cells": [
  {
   "cell_type": "code",
   "execution_count": 1,
   "metadata": {},
   "outputs": [],
   "source": [
    "from PIL import Image, ImageOps"
   ]
  },
  {
   "cell_type": "code",
   "execution_count": 5,
   "metadata": {},
   "outputs": [
    {
     "name": "stdout",
     "output_type": "stream",
     "text": [
      "Mirror Created Successfuly!\n"
     ]
    }
   ],
   "source": [
    "img1 = Image.open('profile by impact.png')\n",
    "img1_flip = ImageOps.mirror(img1)\n",
    "img1_flip.save('profile by impact_mirror.png', quality=100)\n",
    "print(\"Mirror Created Successfuly!\")"
   ]
  },
  {
   "cell_type": "code",
   "execution_count": 6,
   "metadata": {},
   "outputs": [
    {
     "name": "stdout",
     "output_type": "stream",
     "text": [
      "Mirror Created Successfuly!\n"
     ]
    }
   ],
   "source": [
    "img2 = Image.open('profile by degree_impact.png')\n",
    "img2_flip = ImageOps.mirror(img2)\n",
    "img2_flip.save('profile by degree_impact_mirror.png', quality=100)\n",
    "print(\"Mirror Created Successfuly!\")"
   ]
  }
 ],
 "metadata": {
  "kernelspec": {
   "display_name": "Python 3",
   "language": "python",
   "name": "python3"
  },
  "language_info": {
   "codemirror_mode": {
    "name": "ipython",
    "version": 3
   },
   "file_extension": ".py",
   "mimetype": "text/x-python",
   "name": "python",
   "nbconvert_exporter": "python",
   "pygments_lexer": "ipython3",
   "version": "3.7.3"
  }
 },
 "nbformat": 4,
 "nbformat_minor": 2
}
